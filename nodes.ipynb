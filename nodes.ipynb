{
 "cells": [
  {
   "cell_type": "code",
   "execution_count": 26,
   "metadata": {},
   "outputs": [],
   "source": [
    "class BinaryNode:\n",
    "    indent = 2\n",
    "\n",
    "    def __init__(self, value: str) -> None:\n",
    "        self.value = value\n",
    "        self.left_child = None\n",
    "        self.right_child = None\n",
    "\n",
    "    def add_left(self, node: 'BinaryNode') -> None:\n",
    "        self.left_child = node\n",
    "\n",
    "    def add_right(self, node: 'BinaryNode') -> None:\n",
    "        self.right_child = node\n",
    "\n",
    "    def __str__(self) -> str:\n",
    "        return self.print_node(self)\n",
    "    \n",
    "    @classmethod\n",
    "    def print_node(cls, node: 'BinaryNode', level: int = 0) -> str:\n",
    "        s = f\"{\" \" * level * cls.indent}\"\n",
    "        if node:\n",
    "            s += f\"{node.value}:\\n\"\n",
    "            if node.left_child or node.right_child:\n",
    "                level += 1\n",
    "                s += cls.print_node(node.left_child, level) + cls.print_node(node.right_child, level)\n",
    "        else:\n",
    "            s += 'None\\n'\n",
    "        \n",
    "        return s"
   ]
  },
  {
   "cell_type": "code",
   "execution_count": 27,
   "metadata": {},
   "outputs": [
    {
     "name": "stdout",
     "output_type": "stream",
     "text": [
      "Root:\n",
      "  A:\n",
      "    C:\n",
      "    D:\n",
      "  B:\n",
      "    None\n",
      "    E:\n",
      "      F:\n",
      "      None\n",
      "\n"
     ]
    }
   ],
   "source": [
    "root = BinaryNode(\"Root\")\n",
    "a = BinaryNode(\"A\")\n",
    "c = BinaryNode(\"C\")\n",
    "d = BinaryNode(\"D\")\n",
    "a.add_left(c)\n",
    "a.add_right(d)\n",
    "b = BinaryNode(\"B\")\n",
    "e = BinaryNode(\"E\")\n",
    "f = BinaryNode(\"F\")\n",
    "e.add_left(f)\n",
    "b.add_right(e)\n",
    "root.add_left(a)\n",
    "root.add_right(b)\n",
    "\n",
    "print(root)"
   ]
  },
  {
   "cell_type": "code",
   "execution_count": 33,
   "metadata": {},
   "outputs": [],
   "source": [
    "class NaryNode:\n",
    "    indent = 2\n",
    "\n",
    "    def __init__(self, value: str) -> None:\n",
    "        self.value = value\n",
    "        self.children = []\n",
    "\n",
    "    def add_child(self, node: 'NaryNode') -> None:\n",
    "        self.children.append(node)\n",
    "\n",
    "    def __str__(self) -> str:\n",
    "        return self.print_node(self)\n",
    "\n",
    "    def print_node(cls, node: \"NaryNode\", level: int = 0) -> str:\n",
    "        s = f\"{\" \" * level * cls.indent}\"\n",
    "        if node:\n",
    "            s += f\"{node.value}:\\n\"\n",
    "            level += 1\n",
    "            s += \"\".join([cls.print_node(child, level) for child in node.children if child])\n",
    "\n",
    "        return s"
   ]
  },
  {
   "cell_type": "code",
   "execution_count": 34,
   "metadata": {},
   "outputs": [
    {
     "name": "stdout",
     "output_type": "stream",
     "text": [
      "Root:\n",
      "  A:\n",
      "    D:\n",
      "      G:\n",
      "    E:\n",
      "  B:\n",
      "  C:\n",
      "    F:\n",
      "      H:\n",
      "      I:\n",
      "\n",
      "A:\n",
      "  D:\n",
      "    G:\n",
      "  E:\n",
      "\n"
     ]
    }
   ],
   "source": [
    "root = NaryNode(\"Root\")\n",
    "a = NaryNode(\"A\")\n",
    "root.add_child(a)\n",
    "d = NaryNode(\"D\")\n",
    "a.add_child(d)\n",
    "g = NaryNode(\"G\")\n",
    "d.add_child(g)\n",
    "e = NaryNode(\"E\")\n",
    "a.add_child(e)\n",
    "b = NaryNode(\"B\")\n",
    "root.add_child(b)\n",
    "c = NaryNode(\"C\")\n",
    "root.add_child(c)\n",
    "f = NaryNode(\"F\")\n",
    "c.add_child(f)\n",
    "h = NaryNode(\"H\")\n",
    "f.add_child(h)\n",
    "i = NaryNode(\"I\")\n",
    "f.add_child(i)\n",
    "\n",
    "print(root)\n",
    "print(a)"
   ]
  }
 ],
 "metadata": {
  "kernelspec": {
   "display_name": "Python 3",
   "language": "python",
   "name": "python3"
  },
  "language_info": {
   "codemirror_mode": {
    "name": "ipython",
    "version": 3
   },
   "file_extension": ".py",
   "mimetype": "text/x-python",
   "name": "python",
   "nbconvert_exporter": "python",
   "pygments_lexer": "ipython3",
   "version": "3.13.0"
  }
 },
 "nbformat": 4,
 "nbformat_minor": 2
}
