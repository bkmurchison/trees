{
 "cells": [
  {
   "cell_type": "code",
   "execution_count": null,
   "metadata": {},
   "outputs": [],
   "source": [
    "class BinaryNode:\n",
    "    def __init__(self, value: str) -> None:\n",
    "        self.value = value\n",
    "        self.left_child = None\n",
    "        self.right_child = None\n",
    "\n",
    "    def add_left(self, node: 'BinaryNode') -> None:\n",
    "        self.left_child = node\n",
    "\n",
    "    def add_right(self, node: 'BinaryNode') -> None:\n",
    "        self.right_child = node\n",
    "\n",
    "    def __str__(self) -> str:\n",
    "        return f\"{self.value}: {self._child_value(self.left_child)} {self._child_value(self.right_child)}\"\n",
    "    \n",
    "    def _child_value(self, child: 'BinaryNode') -> str:\n",
    "        return f\"{child.value if child else 'None'}\""
   ]
  },
  {
   "cell_type": "code",
   "execution_count": null,
   "metadata": {},
   "outputs": [],
   "source": [
    "root = BinaryNode(\"Root\")\n",
    "a = BinaryNode(\"A\")\n",
    "c = BinaryNode(\"C\")\n",
    "d = BinaryNode(\"D\")\n",
    "a.add_left(c)\n",
    "a.add_right(d)\n",
    "b = BinaryNode(\"B\")\n",
    "e = BinaryNode(\"E\")\n",
    "f = BinaryNode(\"F\")\n",
    "e.add_left(f)\n",
    "b.add_right(e)\n",
    "root.add_left(a)\n",
    "root.add_right(b)\n",
    "\n",
    "bns = [root, a, b, c, d, e, f]\n",
    "for bn in bns:\n",
    "    print(bn)"
   ]
  },
  {
   "cell_type": "code",
   "execution_count": null,
   "metadata": {},
   "outputs": [],
   "source": [
    "class NaryNode:\n",
    "    def __init__(self, value: str) -> None:\n",
    "        self.value = value\n",
    "        self.children = []\n",
    "\n",
    "    def add_child(self, node: 'NaryNode') -> None:\n",
    "        self.children.append(node)\n",
    "\n",
    "    def __str__(self) -> str:\n",
    "        return f\"{self.value}: {\" \".join(map(lambda child: self._child_value(child), self.children))}\"\n",
    "\n",
    "    def _child_value(self, child: 'NaryNode') -> str:\n",
    "        return f\"{child.value if child else 'None'}\""
   ]
  },
  {
   "cell_type": "code",
   "execution_count": null,
   "metadata": {},
   "outputs": [],
   "source": [
    "root = NaryNode(\"Root\")\n",
    "a = NaryNode(\"A\")\n",
    "root.add_child(a)\n",
    "d = NaryNode(\"D\")\n",
    "a.add_child(d)\n",
    "g = NaryNode(\"G\")\n",
    "d.add_child(g)\n",
    "e = NaryNode(\"E\")\n",
    "a.add_child(e)\n",
    "b = NaryNode(\"B\")\n",
    "root.add_child(b)\n",
    "c = NaryNode(\"C\")\n",
    "root.add_child(c)\n",
    "f = NaryNode(\"F\")\n",
    "c.add_child(f)\n",
    "h = NaryNode(\"H\")\n",
    "f.add_child(h)\n",
    "i = NaryNode(\"I\")\n",
    "f.add_child(i)\n",
    "\n",
    "bns = [root, a, b, c, d, e, f, g, h, i]\n",
    "for bn in bns:\n",
    "    print(bn)"
   ]
  }
 ],
 "metadata": {
  "kernelspec": {
   "display_name": "Python 3",
   "language": "python",
   "name": "python3"
  },
  "language_info": {
   "codemirror_mode": {
    "name": "ipython",
    "version": 3
   },
   "file_extension": ".py",
   "mimetype": "text/x-python",
   "name": "python",
   "nbconvert_exporter": "python",
   "pygments_lexer": "ipython3",
   "version": "3.13.0"
  }
 },
 "nbformat": 4,
 "nbformat_minor": 2
}
